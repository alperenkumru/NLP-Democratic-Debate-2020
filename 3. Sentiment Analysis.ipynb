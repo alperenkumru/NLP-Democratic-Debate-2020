{
 "cells": [
  {
   "cell_type": "markdown",
   "metadata": {},
   "source": [
    "## Natural Language Processing with 2020 Democratic Debate Transcripts\n",
    "\n",
    "### Introduction\n",
    "\n",
    "2020 Democratic Primaries sceneing some of the most contentious debates. The main objects of this project is to investigate the differences between candidates. To bright the light to the speeches of candidates. What is it that they are talking about? Are they positive or negative, subjective or objective? We've begun with Data Cleaning and Preparation and finished Exploratory Data Analysis. Lastly, let's begin to Sentiment Analysis.\n",
    "\n",
    "The dataset has been downloaded from Kaggle [Democratic Debate Transcripts 2020.](https://www.kaggle.com/brandenciranni/democratic-debate-transcripts-2020)\n",
    "\n",
    "### Sentiment Analysis\n",
    "\n",
    "This notebook contains the process of Sentiment Analysis for NLP process which includes;\n",
    "\n",
    "- Reading the previously pickled Cleaned (not lemmatized) Corpus.\n",
    "- Implementation of Sentiment Analysis.\n",
    "- Visualization"
   ]
  },
  {
   "cell_type": "code",
   "execution_count": 1,
   "metadata": {},
   "outputs": [],
   "source": [
    "import pandas as pd\n",
    "import seaborn as sns\n",
    "from textblob import TextBlob\n",
    "data = pd.read_pickle('corpus_clean.pkl')"
   ]
  },
  {
   "cell_type": "code",
   "execution_count": 2,
   "metadata": {},
   "outputs": [
    {
     "data": {
      "text/html": [
       "<div>\n",
       "<style scoped>\n",
       "    .dataframe tbody tr th:only-of-type {\n",
       "        vertical-align: middle;\n",
       "    }\n",
       "\n",
       "    .dataframe tbody tr th {\n",
       "        vertical-align: top;\n",
       "    }\n",
       "\n",
       "    .dataframe thead th {\n",
       "        text-align: right;\n",
       "    }\n",
       "</style>\n",
       "<table border=\"1\" class=\"dataframe\">\n",
       "  <thead>\n",
       "    <tr style=\"text-align: right;\">\n",
       "      <th></th>\n",
       "      <th>speaker</th>\n",
       "      <th>speech</th>\n",
       "      <th>polarity</th>\n",
       "      <th>subjectivity</th>\n",
       "    </tr>\n",
       "  </thead>\n",
       "  <tbody>\n",
       "    <tr>\n",
       "      <th>0</th>\n",
       "      <td>Bernie Sanders</td>\n",
       "      <td>well youre right the economy is doing really g...</td>\n",
       "      <td>0.099602</td>\n",
       "      <td>0.453790</td>\n",
       "    </tr>\n",
       "    <tr>\n",
       "      <th>1</th>\n",
       "      <td>Andrew Yang</td>\n",
       "      <td>first let me say america its great to be back ...</td>\n",
       "      <td>0.106764</td>\n",
       "      <td>0.392223</td>\n",
       "    </tr>\n",
       "    <tr>\n",
       "      <th>2</th>\n",
       "      <td>Joe Biden</td>\n",
       "      <td>we talk about progressive lets talk about bein...</td>\n",
       "      <td>0.138499</td>\n",
       "      <td>0.459145</td>\n",
       "    </tr>\n",
       "    <tr>\n",
       "      <th>3</th>\n",
       "      <td>Amy Klobuchar</td>\n",
       "      <td>yes and i think that what we need to do instea...</td>\n",
       "      <td>0.141470</td>\n",
       "      <td>0.419916</td>\n",
       "    </tr>\n",
       "    <tr>\n",
       "      <th>4</th>\n",
       "      <td>Pete Buttigieg</td>\n",
       "      <td>we know what the president  what russia wants ...</td>\n",
       "      <td>0.113321</td>\n",
       "      <td>0.441693</td>\n",
       "    </tr>\n",
       "    <tr>\n",
       "      <th>5</th>\n",
       "      <td>Elizabeth Warren</td>\n",
       "      <td>look the way i see this is that bernie is winn...</td>\n",
       "      <td>0.121648</td>\n",
       "      <td>0.429378</td>\n",
       "    </tr>\n",
       "    <tr>\n",
       "      <th>6</th>\n",
       "      <td>Tom Steyer</td>\n",
       "      <td>bernie sanders analysis is right the differenc...</td>\n",
       "      <td>0.071016</td>\n",
       "      <td>0.402892</td>\n",
       "    </tr>\n",
       "    <tr>\n",
       "      <th>7</th>\n",
       "      <td>Michael Bloomberg</td>\n",
       "      <td>senator i think that donald trump thinks it wo...</td>\n",
       "      <td>0.107497</td>\n",
       "      <td>0.443302</td>\n",
       "    </tr>\n",
       "    <tr>\n",
       "      <th>8</th>\n",
       "      <td>Tulsi Gabbard</td>\n",
       "      <td>that our democratic party unfortunately is not...</td>\n",
       "      <td>0.076763</td>\n",
       "      <td>0.472936</td>\n",
       "    </tr>\n",
       "  </tbody>\n",
       "</table>\n",
       "</div>"
      ],
      "text/plain": [
       "             speaker                                             speech  \\\n",
       "0     Bernie Sanders  well youre right the economy is doing really g...   \n",
       "1        Andrew Yang  first let me say america its great to be back ...   \n",
       "2          Joe Biden  we talk about progressive lets talk about bein...   \n",
       "3      Amy Klobuchar  yes and i think that what we need to do instea...   \n",
       "4     Pete Buttigieg  we know what the president  what russia wants ...   \n",
       "5   Elizabeth Warren  look the way i see this is that bernie is winn...   \n",
       "6         Tom Steyer  bernie sanders analysis is right the differenc...   \n",
       "7  Michael Bloomberg  senator i think that donald trump thinks it wo...   \n",
       "8      Tulsi Gabbard  that our democratic party unfortunately is not...   \n",
       "\n",
       "   polarity  subjectivity  \n",
       "0  0.099602      0.453790  \n",
       "1  0.106764      0.392223  \n",
       "2  0.138499      0.459145  \n",
       "3  0.141470      0.419916  \n",
       "4  0.113321      0.441693  \n",
       "5  0.121648      0.429378  \n",
       "6  0.071016      0.402892  \n",
       "7  0.107497      0.443302  \n",
       "8  0.076763      0.472936  "
      ]
     },
     "execution_count": 2,
     "metadata": {},
     "output_type": "execute_result"
    }
   ],
   "source": [
    "pol = lambda x: TextBlob(x).sentiment.polarity\n",
    "sub = lambda x: TextBlob(x).sentiment.subjectivity\n",
    "\n",
    "data['polarity'] = data['speech'].apply(pol)\n",
    "data['subjectivity'] = data['speech'].apply(sub)\n",
    "data"
   ]
  },
  {
   "cell_type": "code",
   "execution_count": 3,
   "metadata": {},
   "outputs": [],
   "source": [
    "data.to_pickle(\"sentiment.pkl\")"
   ]
  },
  {
   "cell_type": "code",
   "execution_count": 4,
   "metadata": {},
   "outputs": [
    {
     "data": {
      "text/plain": [
       "<matplotlib.axes._subplots.AxesSubplot at 0x1fe3bb22488>"
      ]
     },
     "execution_count": 4,
     "metadata": {},
     "output_type": "execute_result"
    },
    {
     "data": {
      "image/png": "[encoded data removed]",
      "text/plain": [
       "<Figure size 432x288 with 1 Axes>"
      ]
     },
     "metadata": {
      "needs_background": "light"
     },
     "output_type": "display_data"
    }
   ],
   "source": [
    "data = data.sort_values(by='polarity')\n",
    "sns.barplot(x=\"polarity\", y=\"speaker\", data=data, palette=\"Reds_d\")"
   ]
  },
  {
   "cell_type": "code",
   "execution_count": 5,
   "metadata": {},
   "outputs": [
    {
     "data": {
      "text/plain": [
       "<matplotlib.axes._subplots.AxesSubplot at 0x1fe3e705e88>"
      ]
     },
     "execution_count": 5,
     "metadata": {},
     "output_type": "execute_result"
    },
    {
     "data": {
      "image/png": "[encoded data removed]",
      "text/plain": [
       "<Figure size 432x288 with 1 Axes>"
      ]
     },
     "metadata": {
      "needs_background": "light"
     },
     "output_type": "display_data"
    }
   ],
   "source": [
    "data = data.sort_values(by='subjectivity')\n",
    "sns.barplot(x=\"subjectivity\", y=\"speaker\", data=data, palette=\"Blues_d\")"
   ]
  },
  {
   "cell_type": "markdown",
   "metadata": {},
   "source": [
    "### Results for Sentiment Analysis\n",
    "\n",
    "As a result of the polarity analysis, it can be said that there is no candidate with average polarity score under zero, meaning that all candidates mostly speaking positively. But since the **highest polarity score is 0.14**, they are mostly **neutral than positive**.  While Biden and Klobuchar are the most positive candidates, Steyer and Gabbard are the ones with the lowest score of polarity.\n",
    "\n",
    "According to subjectivity analysis, the most objective candidate is **Andrew Yang whose motto is \"Math\"**. While **Joe Biden** uses the word **\"fact\"** too much, on the contrary, he is the **second most subjective candidate**. \n",
    "\n",
    "*__The End!__*"
   ]
  },
  {
   "cell_type": "code",
   "execution_count": null,
   "metadata": {},
   "outputs": [],
   "source": []
  }
 ],
 "metadata": {
  "kernelspec": {
   "display_name": "Python 3",
   "language": "python",
   "name": "python3"
  },
  "language_info": {
   "codemirror_mode": {
    "name": "ipython",
    "version": 3
   },
   "file_extension": ".py",
   "mimetype": "text/x-python",
   "name": "python",
   "nbconvert_exporter": "python",
   "pygments_lexer": "ipython3",
   "version": "3.7.6"
  }
 },
 "nbformat": 4,
 "nbformat_minor": 4
}
